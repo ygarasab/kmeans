{
 "cells": [
  {
   "cell_type": "markdown",
   "metadata": {},
   "source": [
    "Este trabalho é referente à disciplina de Inteligência Artificial do curso de Bacharelado em Ciência da Computação na Universidade Federal do Pará. Ele propõe a implementação de uma versão do algoritmo Stochastic Hill Climbing (Simulated Annealing) e de uma meta-heurística (Genetic Algorithm) para a resolução do problema das oito rainhas.\n",
    "\n",
    "Durante todo o ciclo de desenvolvimento deste trabalho, o GitHub foi utilizado como ferramenta de versionamento. O histórico de desenvolvimento da equipe, bem como versões iniciais do código aqui contido, está disponível ao público no GitHub em [@ygarasab/kmeans](https://github.com/ygarasab/kmeans).\n",
    "\n",
    "**Observação:** antes de interagir com o código no Jupyter Notebook/Lab, é importante observar que certas células anteriores à que se quer executar podem ser necessárias. A fim de evitar isso, é importante certificar-se de executar ao menos uma vez todas as células contendo definições de funções ou importações de módulos."
   ]
  },
  {
   "cell_type": "markdown",
   "metadata": {},
   "source": [
    "# Sumário"
   ]
  },
  {
   "cell_type": "markdown",
   "metadata": {},
   "source": [
    "1. [Requisitos](#Requisitos)\n",
    "    1. [Ambiente](#Ambiente)\n",
    "    2. [Funções de checagem](#Funções-de-checagem)\n",
    "2. [Modelagem do algoritmo, da função-objetivo e das soluções](#Modelagem-do-algoritmo,-da-função-objetivo-e-das-soluções)\n",
    "    1. [Funções auxiliares](#Funções-auxiliares)\n",
    "    2. [Funções auxiliares relacionadas ao K-Means](#Funções-auxiliares-relacionadas-ao-K-Means)\n",
    "    3. [A classe `KMedias`](#A-classe-KMedias)\n",
    "    4. [A função-objetivo](#A-função-objetivo)\n",
    "    5. [As soluções](#As-soluções)\n",
    "3. [O problema](#O-problema)\n",
    "4. [O conjunto de dados](#O-conjunto-de-dados)\n",
    "    1. [Pré-processamento](#Pré-processamento)\n",
    "    2. [Processamento](#Processamento)"
   ]
  },
  {
   "cell_type": "markdown",
   "metadata": {},
   "source": [
    "# Requisitos"
   ]
  },
  {
   "cell_type": "markdown",
   "metadata": {},
   "source": [
    "## Ambiente"
   ]
  },
  {
   "cell_type": "markdown",
   "metadata": {},
   "source": [
    "Este trabalho foi feito utilizando a seguinte linguagem de programação:\n",
    "\n",
    "- `python` 3.8.5\n",
    "\n",
    "Em adição, os seguintes módulos precisam estar instalados no ambiente em que este notebook for executado:\n",
    "\n",
    "- `dask` 2.19.0\n",
    "- `ipypublish` 0.10.12\n",
    "- `matplotlib` 3.3.2\n",
    "- `numba` 0.52.0\n",
    "- `numpy` 1.19.2\n",
    "- `pandas` 1.1.4\n",
    "- `scipy` 1.5.3\n",
    "- `seaborn` 0.11.0\n",
    "\n",
    "Observe que o código pode funcionar em versões distintas às que foram mencionadas acima; contudo, sabe-se que a sua execução é garantida nas versões mencionadas."
   ]
  },
  {
   "cell_type": "code",
   "execution_count": 1,
   "metadata": {},
   "outputs": [],
   "source": [
    "import decimal as d\n",
    "import numba as nb\n",
    "import numpy as np\n",
    "import random as r\n",
    "import seaborn as sns\n",
    "import typing as t\n",
    "\n",
    "from dask import distributed\n",
    "from ipypublish import nb_setup\n",
    "from scipy import stats\n",
    "from timeit import default_timer as timer"
   ]
  },
  {
   "cell_type": "code",
   "execution_count": 2,
   "metadata": {},
   "outputs": [],
   "source": [
    "%%capture\n",
    "\n",
    "plt = nb_setup.setup_matplotlib(output=('pdf',), usetex=False, rcparams={'axes.facecolor': 'white', 'figure.facecolor': 'white'})\n",
    "pd = nb_setup.setup_pandas(escape_latex=True)"
   ]
  },
  {
   "cell_type": "code",
   "execution_count": 3,
   "metadata": {},
   "outputs": [],
   "source": [
    "cliente = distributed.Client(threads_per_worker=1)"
   ]
  },
  {
   "cell_type": "markdown",
   "metadata": {},
   "source": [
    "Antes de começarmos, é importante mencionar que buscou-se aqui, sempre que possível, utilizar funções `numba`-jitted de forma a compilar as funções redigidas em `python` em código de máquina. Dessa forma, busca-se maximizar o desempenho da implementação desenvolvida."
   ]
  },
  {
   "cell_type": "markdown",
   "metadata": {},
   "source": [
    "## Funções de checagem"
   ]
  },
  {
   "cell_type": "markdown",
   "metadata": {},
   "source": [
    "Uma vez configurado o ambiente em que este notebook será executado, é necessário definir algumas funções de checagem que serão utilizadas mais adiante:"
   ]
  },
  {
   "cell_type": "code",
   "execution_count": 4,
   "metadata": {},
   "outputs": [],
   "source": [
    "def verifica_comprimento_igual_a(**parametros):\n",
    "    numero_de_parametros = len(parametros.keys())\n",
    "\n",
    "    if numero_de_parametros != 2:\n",
    "        raise ValueError(\n",
    "            f\"Apenas um parâmetro pode ser passado para esta função. Foram recebidos \" f\"{numero_de_parametros}.\"\n",
    "        )\n",
    "\n",
    "    parametro, outro_parametro = parametros.keys()\n",
    "\n",
    "    valor, descricao = parametros[parametro]\n",
    "    outro_valor, outra_descricao = parametros[outro_parametro]\n",
    "\n",
    "    if outro_valor is not None and len(valor) != len(outro_valor):\n",
    "        raise ValueError(\n",
    "            f\"O {descricao} {parametro} precisa ter um comprimento igual ao {outra_descricao} \" f\"{outro_parametro}.\"\n",
    "        )"
   ]
  },
  {
   "cell_type": "code",
   "execution_count": 5,
   "metadata": {},
   "outputs": [],
   "source": [
    "def verifica_comprimento_menor_ou_igual_a(**parametros):\n",
    "    numero_de_parametros = len(parametros.keys())\n",
    "\n",
    "    if numero_de_parametros != 2:\n",
    "        raise ValueError(\n",
    "            f\"Apenas um parâmetro pode ser passado para esta função. Foram recebidos \" f\"{numero_de_parametros}.\"\n",
    "        )\n",
    "\n",
    "    parametro, outro_parametro = parametros.keys()\n",
    "\n",
    "    valor, descricao = parametros[parametro]\n",
    "    outro_valor, outra_descricao = parametros[outro_parametro]\n",
    "\n",
    "    if outro_valor is not None and len(valor) > len(outro_valor):\n",
    "        raise ValueError(\n",
    "            f\"O {descricao} {parametro} precisa ter um comprimento, no máximo, igual ao {outra_descricao} \"\n",
    "            f\"{outro_parametro}.\"\n",
    "        )"
   ]
  },
  {
   "cell_type": "code",
   "execution_count": 6,
   "metadata": {},
   "outputs": [],
   "source": [
    "def verifica_dtype(**parametro_dict):\n",
    "    numero_de_parametros = len(parametro_dict.keys())\n",
    "\n",
    "    if numero_de_parametros != 1:\n",
    "        raise ValueError(\n",
    "            f\"Apenas um parâmetro pode ser passado para esta função. Foram recebidos \" f\"{numero_de_parametros}.\"\n",
    "        )\n",
    "\n",
    "    parametro = list(parametro_dict.keys())[0]\n",
    "    valor, descricao, dtype = parametro_dict[parametro]\n",
    "\n",
    "    if dtype == np.int_ and valor.dtype != dtype:\n",
    "        if valor.dtype == np.float_:\n",
    "            return valor.astype(np.int_)\n",
    "        else:\n",
    "            raise TypeError(\n",
    "                f\"O {descricao} {parametro} precisa ser um numpy array com atributo dtype igual a \"\n",
    "                f\"{dtype}. O dtype do numpy array recebido é {valor.dtype}.\"\n",
    "            )\n",
    "\n",
    "    if valor.dtype != dtype:\n",
    "        raise TypeError(\n",
    "            f\"O {descricao} {parametro} precisa ser um numpy array com atributo dtype igual a {dtype}. \"\n",
    "            f\"O dtype do numpy array recebido é {valor.dtype}.\"\n",
    "        )\n",
    "    else:\n",
    "        return valor"
   ]
  },
  {
   "cell_type": "code",
   "execution_count": 7,
   "metadata": {},
   "outputs": [],
   "source": [
    "def verifica_nao_negatividade(**parametros):\n",
    "    for parametro in parametros.keys():\n",
    "        valor, descricao = parametros[parametro]\n",
    "\n",
    "        if valor < 0:\n",
    "            raise ValueError(f\"O {descricao} {parametro} precisa receber um número não-negativo.\")"
   ]
  },
  {
   "cell_type": "code",
   "execution_count": 8,
   "metadata": {},
   "outputs": [],
   "source": [
    "def verifica_ndim(**parametros):\n",
    "    for parametro in parametros.keys():\n",
    "        valor, descricao, ndim = parametros[parametro]\n",
    "\n",
    "        if valor.ndim != ndim:\n",
    "            raise ValueError(f\"O o atributo ndim do {descricao} {parametro} precisa ser igual a {ndim}.\")"
   ]
  },
  {
   "cell_type": "code",
   "execution_count": 9,
   "metadata": {},
   "outputs": [],
   "source": [
    "def verifica_tipo(**parametro_dict):\n",
    "    numero_de_parametros = len(parametro_dict.keys())\n",
    "\n",
    "    if numero_de_parametros != 1:\n",
    "        raise ValueError(\n",
    "            f\"Apenas um parâmetro pode ser passado para esta função. Foram recebidos \" f\"{numero_de_parametros}.\"\n",
    "        )\n",
    "\n",
    "    parametro = list(parametro_dict.keys())[0]\n",
    "    valor, descricao, tipos = parametro_dict[parametro]\n",
    "\n",
    "    if tipos == t.SupportsFloat:\n",
    "        if not isinstance(valor, tipos):\n",
    "            raise TypeError(\n",
    "                f\"O {descricao} {parametro} precisa receber um número de ponto flutuante ou um objeto que \"\n",
    "                f\"possa ser convertido para tal.\"\n",
    "            )\n",
    "        else:\n",
    "            return float(valor)\n",
    "\n",
    "    if tipos == t.SupportsInt:\n",
    "        if not isinstance(valor, tipos):\n",
    "            raise TypeError(\n",
    "                f\"O {descricao} {parametro} precisa receber um número inteiro ou um objeto que possa ser \"\n",
    "                f\"convertido para tal.\"\n",
    "            )\n",
    "        else:\n",
    "            return int(valor)\n",
    "\n",
    "    if tipos == np.ndarray:\n",
    "        if not isinstance(valor, np.ndarray):\n",
    "            if not isinstance(valor, (list, tuple)):\n",
    "                raise TypeError(\n",
    "                    f\"O {descricao} {parametro} precisa receber um array numpy ou um objeto que possa ser \"\n",
    "                    f\"convertido para tal.\"\n",
    "                )\n",
    "            else:\n",
    "                return np.array(valor)\n",
    "\n",
    "    if tipos == bool:\n",
    "        if not isinstance(valor, bool):\n",
    "            if isinstance(valor, np.bool_):\n",
    "                return bool(valor)\n",
    "            else:\n",
    "                raise TypeError(\n",
    "                    f\"O {descricao} {parametro} precisa receber um objeto booleano ou um objeto que possa \"\n",
    "                    f\"ser convertido para tal.\"\n",
    "                )\n",
    "        else:\n",
    "            return valor\n",
    "\n",
    "    if not isinstance(valor, tipos):\n",
    "        raise TypeError(f\"O {descricao} {parametro} precisa receber um objeto de classe {tipos} ou que herde dela.\")\n",
    "    else:\n",
    "        return valor"
   ]
  },
  {
   "cell_type": "markdown",
   "metadata": {},
   "source": [
    "# Modelagem do algoritmo, da função-objetivo e das soluções"
   ]
  },
  {
   "cell_type": "markdown",
   "metadata": {},
   "source": [
    "Em aderência ao estipulado pelo comando do trabalho, o algoritmo K-Means foi escolhido como o clusterizador para a resolução do problema dos aeroportos. Antes de definirmos a classe `KMedias`, no entanto, algumas funções hão de serem definidas para auxiliar no desempenhar das atribuições do algoritmo. Embora estas funções sejam sabidamente já implementadas na forma de métodos e funções do módulo `numpy`, elas não foram implementadas em código compilável pelo módulo `numba`, o que faz com que o processo de tradução do módulo `llvmlite` falhe por não reconhecer a função ou método em questão. Dessa forma, as implementações relevevantes e ausentes foram feitas manualmente, também utilizando o módulo `numba`."
   ]
  },
  {
   "cell_type": "markdown",
   "metadata": {},
   "source": [
    "## Funções auxiliares"
   ]
  },
  {
   "cell_type": "code",
   "execution_count": 10,
   "metadata": {},
   "outputs": [],
   "source": [
    "@nb.jit(nopython=True, parallel=True)\n",
    "def arredonda_matriz(matriz, casas_decimais):\n",
    "    vetor = matriz.copy().ravel()\n",
    "    comprimento = vetor.shape[0]\n",
    "\n",
    "    for i in nb.prange(comprimento):\n",
    "        vetor[i] = np.round_(vetor[i], casas_decimais)\n",
    "\n",
    "    matriz_arredondada = vetor.reshape(matriz.shape)\n",
    "\n",
    "    return matriz_arredondada"
   ]
  },
  {
   "cell_type": "code",
   "execution_count": 11,
   "metadata": {},
   "outputs": [],
   "source": [
    "@nb.jit(nopython=True, parallel=True)\n",
    "def calcula_distancia_entre_grupos(grupo_um, grupo_dois, tira_raiz=True):\n",
    "    comprimento_um, comprimento_dois = grupo_um.shape[0], grupo_dois.shape[0]\n",
    "    distancias = np.empty(shape=(comprimento_um, comprimento_dois))\n",
    "\n",
    "    for i_um in nb.prange(comprimento_um):\n",
    "        for i_dois in nb.prange(comprimento_dois):\n",
    "            distancias[i_um, i_dois] = calcula_distancia_entre_observacoes(\n",
    "                grupo_um[i_um, :], grupo_dois[i_dois, :], tira_raiz\n",
    "            )\n",
    "\n",
    "    return distancias"
   ]
  },
  {
   "cell_type": "code",
   "execution_count": 12,
   "metadata": {},
   "outputs": [],
   "source": [
    "@nb.jit(nopython=True, parallel=True)\n",
    "def calcula_distancia_entre_observacoes(vetor_um, vetor_dois, tira_raiz):\n",
    "    comprimento = vetor_um.shape[0]\n",
    "    diferencas = np.empty(shape=comprimento)\n",
    "\n",
    "    for i in nb.prange(comprimento):\n",
    "        diferencas[i] = np.square(vetor_um[i] - vetor_dois[i])\n",
    "\n",
    "    distancia = np.sum(diferencas)\n",
    "\n",
    "    if tira_raiz is True:\n",
    "        distancia = np.sqrt(distancia)\n",
    "\n",
    "    return distancia"
   ]
  },
  {
   "cell_type": "code",
   "execution_count": 13,
   "metadata": {},
   "outputs": [],
   "source": [
    "@nb.jit(nopython=True)\n",
    "def verifica_igualdade_aproximada_entre_grupos(grupo_um, grupo_dois, casas_decimais):\n",
    "    grupo_um, grupo_dois = arredonda_matriz(grupo_um, casas_decimais), arredonda_matriz(grupo_dois, casas_decimais)\n",
    "    ha_igualdade = bool((grupo_um == grupo_dois).all())\n",
    "\n",
    "    return ha_igualdade"
   ]
  },
  {
   "cell_type": "code",
   "execution_count": 14,
   "metadata": {},
   "outputs": [],
   "source": [
    "@nb.jit(nopython=True, parallel=True)\n",
    "def tira_media_das_colunas(dados):\n",
    "    dimensionalidade = dados.shape[1]\n",
    "    media_das_colunas_dos_dados = np.empty(shape=dimensionalidade)\n",
    "\n",
    "    for f in nb.prange(dimensionalidade):\n",
    "        media_das_colunas_dos_dados[f] = dados[:, f].mean()\n",
    "\n",
    "    return media_das_colunas_dos_dados"
   ]
  },
  {
   "cell_type": "markdown",
   "metadata": {},
   "source": [
    "## Funções auxiliares relacionadas ao K-Means"
   ]
  },
  {
   "cell_type": "markdown",
   "metadata": {},
   "source": [
    "Uma vez definidas as funções auxiliares de propósito geral, definamos agora as funções auxiliares relacionadas à classe `KMedias`."
   ]
  },
  {
   "cell_type": "code",
   "execution_count": 15,
   "metadata": {},
   "outputs": [],
   "source": [
    "@nb.jit(nopython=True, parallel=True)\n",
    "def calcula_erro_da_solucao(dados, centroides):\n",
    "    rotulos, numero_de_centroides = rotula_dados(dados, centroides), centroides.shape[0]\n",
    "    erro_dos_agrupamentos = np.empty(numero_de_centroides)\n",
    "\n",
    "    for rotulo in nb.prange(numero_de_centroides):\n",
    "        membros_do_agrupamento = np.where(rotulos == rotulo)[0]\n",
    "\n",
    "        if membros_do_agrupamento.shape[0] == 0:\n",
    "            return np.inf\n",
    "        else:\n",
    "            centroide = centroides[rotulo, :].reshape(1, -1)\n",
    "            membros = dados[membros_do_agrupamento, :]\n",
    "            erro_dos_agrupamentos[rotulo] = calcula_distancia_entre_grupos(\n",
    "                centroide, membros, tira_raiz=False\n",
    "            ).sum()\n",
    "\n",
    "    erro_total = erro_dos_agrupamentos.sum()\n",
    "\n",
    "    return erro_total"
   ]
  },
  {
   "cell_type": "code",
   "execution_count": 16,
   "metadata": {},
   "outputs": [],
   "source": [
    "@nb.jit(nopython=True, parallel=True)\n",
    "def centraliza_centroides(dados, centroides, centroides_fixos, rotulos):\n",
    "    numero_de_centroides, dimensionalidade = centroides.shape\n",
    "    rotulos_unicos = np.arange(numero_de_centroides)[np.logical_not(centroides_fixos)]\n",
    "    numero_de_rotulos = rotulos_unicos.shape[0]\n",
    "    centroides_centralizados = np.empty((numero_de_centroides, dimensionalidade))\n",
    "    centroides_centralizados[centroides_fixos, :] = centroides[centroides_fixos, :]\n",
    "\n",
    "    for r in nb.prange(numero_de_rotulos):\n",
    "        rotulo = rotulos_unicos[r]\n",
    "        membros_do_agrupamento = np.where(rotulos == rotulo)[0]\n",
    "        agrupamento = dados[membros_do_agrupamento, :]\n",
    "        centroides_centralizados[rotulo, :] = tira_media_das_colunas(agrupamento)\n",
    "\n",
    "    return centroides_centralizados"
   ]
  },
  {
   "cell_type": "code",
   "execution_count": 17,
   "metadata": {},
   "outputs": [],
   "source": [
    "@nb.jit(nopython=True)\n",
    "def rotula_dados(dados, centroides):\n",
    "    distancias = calcula_distancia_entre_grupos(dados, centroides)\n",
    "    numero_de_observacoes = dados.shape[0]\n",
    "    rotulos = np.empty(numero_de_observacoes, dtype=np.int_)\n",
    "\n",
    "    for d in nb.prange(numero_de_observacoes):\n",
    "        rotulos[d] = distancias[d].argmin()\n",
    "\n",
    "    return rotulos"
   ]
  },
  {
   "cell_type": "code",
   "execution_count": 18,
   "metadata": {},
   "outputs": [],
   "source": [
    "@nb.jit(nopython=True)\n",
    "def gera_centroides(dados, numero_de_centroides):\n",
    "    comprimento, dimensionalidade = dados.shape\n",
    "    indices = np.arange(comprimento, dtype=np.int_)\n",
    "    indices_aleatorios = np.random.choice(indices, size=numero_de_centroides, replace=False)\n",
    "    centroides = dados[indices_aleatorios].copy()\n",
    "\n",
    "    return centroides"
   ]
  },
  {
   "cell_type": "code",
   "execution_count": 19,
   "metadata": {},
   "outputs": [],
   "source": [
    "@nb.jit(nopython=True)\n",
    "def roda_k_means(dados, centroides, centroides_fixos, casas_decimais=4, numero_maximo_de_iteracoes=1000):\n",
    "    iteracao = 0\n",
    "\n",
    "    while iteracao < numero_maximo_de_iteracoes:\n",
    "        rotulos = rotula_dados(dados, centroides)\n",
    "        centroides_centralizados = centraliza_centroides(dados, centroides, centroides_fixos, rotulos)\n",
    "        ha_igualdade = verifica_igualdade_aproximada_entre_grupos(\n",
    "            centroides, centroides_centralizados, casas_decimais\n",
    "        )\n",
    "        centroides = centroides_centralizados\n",
    "\n",
    "        if ha_igualdade is True:\n",
    "            break\n",
    "        else:\n",
    "            iteracao += 1\n",
    "\n",
    "    return centroides"
   ]
  },
  {
   "cell_type": "markdown",
   "metadata": {},
   "source": [
    "### A classe `KMedias`"
   ]
  },
  {
   "cell_type": "markdown",
   "metadata": {},
   "source": [
    "Uma vez definidas todas as funções necessárias, chegamos à definição da classe `KMedias`. Esta implementação do K-Means foi personalizada para suportar a especificação de centroides fixos, i.e., centroides que não são atualizados no decorrer das iterações, mas que compõem a solução final.\n",
    "\n",
    "Em suma, esta classe é um *wrapper* para as funções `numba` supra-implementadas que serve para armazenar informações e realizar verificações nas entradas fornecidas aos seus métodos e atributos."
   ]
  },
  {
   "cell_type": "code",
   "execution_count": 20,
   "metadata": {},
   "outputs": [],
   "source": [
    "class KMedias:\n",
    "    def __init__(self, *, numero_de_centroides):\n",
    "        self.numero_de_centroides = numero_de_centroides\n",
    "        self.__centroides, self.__centroides_fixos, self.__dados = None, None, None\n",
    "\n",
    "    @property\n",
    "    def numero_de_centroides(self):\n",
    "        return self.__numero_de_centroides\n",
    "\n",
    "    @numero_de_centroides.setter\n",
    "    def numero_de_centroides(self, novo_numero_de_centroides):\n",
    "        novo_numero_de_centroides = verifica_tipo(\n",
    "            numero_de_centroides=(novo_numero_de_centroides, \"atributo\", t.SupportsInt)\n",
    "        )\n",
    "\n",
    "        verifica_nao_negatividade(numero_de_centroides=(novo_numero_de_centroides, \"atributo\"))\n",
    "\n",
    "        self.__numero_de_centroides = novo_numero_de_centroides\n",
    "\n",
    "    @property\n",
    "    def centroides(self):\n",
    "        return self.__centroides\n",
    "\n",
    "    @centroides.setter\n",
    "    def centroides(self, novos_centroides):\n",
    "        if novos_centroides is None:\n",
    "            novos_centroides = gera_centroides(\n",
    "                dados=self.dados, numero_de_centroides=self.numero_de_centroides\n",
    "            )\n",
    "            self.centroides_fixos = novos_centroides.shape[0] * [False]\n",
    "        elif isinstance(novos_centroides, np.ndarray):\n",
    "            novos_centroides = verifica_tipo(centroides=(novos_centroides, \"atributo\", np.ndarray))\n",
    "\n",
    "            verifica_ndim(centroides=(novos_centroides, \"atributo\", 2))\n",
    "            verifica_comprimento_menor_ou_igual_a(\n",
    "                centroides=(novos_centroides, \"atributo\"), dados=(self.dados, \"atributo\")\n",
    "            )\n",
    "\n",
    "            centroides_faltantes = self.numero_de_centroides - novos_centroides.shape[0]\n",
    "\n",
    "            if centroides_faltantes > 0:\n",
    "                centroides_complementares = gera_centroides(\n",
    "                    dados=self.dados, numero_de_centroides=centroides_faltantes\n",
    "                )\n",
    "                self.centroides_fixos = novos_centroides.shape[0] * [True] + centroides_faltantes * [False]\n",
    "                novos_centroides = np.concatenate((novos_centroides, centroides_complementares), axis=0)\n",
    "            elif centroides_faltantes < 0:\n",
    "                novos_centroides = novos_centroides[:centroides_faltantes]\n",
    "                self.centroides_fixos = novos_centroides.shape[0] * [False]\n",
    "\n",
    "        self.__centroides = novos_centroides\n",
    "\n",
    "    @property\n",
    "    def centroides_fixos(self):\n",
    "        return self.__centroides_fixos\n",
    "\n",
    "    @centroides_fixos.setter\n",
    "    def centroides_fixos(self, novos_centroides_fixos):\n",
    "        novos_centroides_fixos = verifica_tipo(\n",
    "            centroides_fixos=(novos_centroides_fixos, \"atributo\", np.ndarray)\n",
    "        )\n",
    "\n",
    "        verifica_ndim(centroides_fixos=(novos_centroides_fixos, \"atributo\", 1))\n",
    "        verifica_dtype(centroides_fixos=(novos_centroides_fixos, \"atributo\", np.bool_))\n",
    "        verifica_comprimento_igual_a(\n",
    "            centroides_fixos=(novos_centroides_fixos, \"atributo\"), centroides=(self.centroides, \"atributo\")\n",
    "        )\n",
    "\n",
    "        self.__centroides_fixos = novos_centroides_fixos\n",
    "\n",
    "    @property\n",
    "    def dados(self):\n",
    "        return self.__dados\n",
    "\n",
    "    @dados.setter\n",
    "    def dados(self, novos_dados):\n",
    "        novos_dados = verifica_tipo(dados=(novos_dados, \"atributo\", np.ndarray))\n",
    "\n",
    "        verifica_ndim(dados=(novos_dados, \"atributo\", 2))\n",
    "\n",
    "        self.__dados = novos_dados\n",
    "\n",
    "    @property\n",
    "    def rotulos(self):\n",
    "        return rotula_dados(dados=self.dados, centroides=self.centroides)\n",
    "\n",
    "    def clusteriza_dados(self, *, dados, centroides_fixos, numero_de_execucoes=1000):\n",
    "        melhor_solucao, erro_da_melhor_solucao = None, None\n",
    "        data_frame = pd.DataFrame(index=range(numero_de_execucoes), columns=[\"Solução\", \"Erro\"])\n",
    "\n",
    "        for iteracao in range(numero_de_execucoes):\n",
    "            print(f\"Execução {iteracao}...\", end=\"\\r\")\n",
    "\n",
    "            solucao = self._clusteriza_dados(dados=dados, centroides_fixos=centroides_fixos)\n",
    "            erro_da_solucao = calcula_erro_da_solucao(dados, solucao)\n",
    "\n",
    "            data_frame.iloc[iteracao, :] = np.array([solucao, erro_da_solucao], dtype=object)\n",
    "\n",
    "            if melhor_solucao is None or erro_da_solucao < erro_da_melhor_solucao:\n",
    "                melhor_solucao, erro_da_melhor_solucao = solucao, erro_da_solucao\n",
    "\n",
    "        data_frame = data_frame.infer_objects().sort_values(by=\"Erro\")\n",
    "                \n",
    "        return data_frame\n",
    "\n",
    "    def _clusteriza_dados(self, *, dados, centroides_fixos):\n",
    "        self.dados = dados\n",
    "        self.centroides = centroides_fixos\n",
    "\n",
    "        self.centroides = roda_k_means(\n",
    "            dados=dados, centroides=self.centroides, centroides_fixos=self.centroides_fixos\n",
    "        )\n",
    "\n",
    "        return self.centroides"
   ]
  },
  {
   "cell_type": "markdown",
   "metadata": {},
   "source": [
    "Pode-se notar que o método privado `KMedias._clusteriza_dados()`, que é chamado pelo método público `KMedias.clusteriza_dados()`, se vale da função `numba`-jitted `roda_k_means()`, que por sua vez chama as demais funções `numba`-jitted para desempenhar a rotina principal do K-Means."
   ]
  },
  {
   "cell_type": "markdown",
   "metadata": {},
   "source": [
    "## A função-objetivo"
   ]
  },
  {
   "cell_type": "markdown",
   "metadata": {},
   "source": [
    "A função-objetivo a ser minimizada, doravante referida como erro, foi definida na função `numba`-jitted `calcula_erro_da_solucao()`. Ela segue à risca a função estipulada no trabalho, que é a que segue:"
   ]
  },
  {
   "cell_type": "markdown",
   "metadata": {},
   "source": [
    "$$f(X, C)=\\sum_{k=1}^{K} \\sum_{\\vec{x} \\in \\vec{C}_{i}}\\left\\|\\vec{x}-\\vec{C}_{i}\\right\\|^{2}$$"
   ]
  },
  {
   "cell_type": "markdown",
   "metadata": {},
   "source": [
    "Nela, $X$ corresponde ao conjunto de dados, enquanto que $C$ corresponde ao conjunto de $K$ centroides. Busca-se, por meio dela, minimizar a distância das observações em relação ao respectivo centroide ao qual elas pertencem."
   ]
  },
  {
   "cell_type": "markdown",
   "metadata": {},
   "source": [
    "## As soluções"
   ]
  },
  {
   "cell_type": "markdown",
   "metadata": {},
   "source": [
    "O algoritmo retorna um conjunto de $K$ centroides (onde $K$ é definido pelo usuário no parâmetro `numero_de_centroides` do construtor da classe `KMedias`) capaz de particionar o conjunto de dados fornecido em clusters."
   ]
  },
  {
   "cell_type": "markdown",
   "metadata": {},
   "source": [
    "# O problema"
   ]
  },
  {
   "cell_type": "markdown",
   "metadata": {},
   "source": [
    "A partir do mencionado no arquivo `.pdf` contendo a descrição do trabalho, tem-se um cenário hipotético em que 3 novos aeroportos serão construídos na cidade Belém, localizada no estado Pará. Os seguintes distritos foram elencados para consideração:\n",
    "\n",
    "- Distrito administrativo de Belém - Centro (DABEL)\n",
    "- Distrito administrativo do Entroncamento (DAENT)\n",
    "- Distrito administrativo do Guamá (DAGUA)\n",
    "- Distrito administrativo do Benguí – Nova Belém (DABEN)\n",
    "- Distrito administrativo da Sacramenta (DASAC)\n",
    "\n",
    "A solução deve levar em conta o já existente Aeroporto Internacional Val-de-Cans que atende a região atualmente. A fim de descobrir soluções para esse problema, os seguintes componentes fazem-se necessários:\n",
    "\n",
    "- **Um algoritmo de clusterização**, que deve ser executado várias vezes para assegurar que a melhor solução possível será encontrada;\n",
    "- **Um conjunto de dados**, que deve descrever o centro dos bairros dos distritos considerados; e\n",
    "- **As coordenadas do Aeroporto Internacional Val-de-Cans**, que deve ser considerado como um centroide fixo na solução a ser descoberta.\n",
    "\n",
    "Em adição, os seguintes requisitos precisam ser atendidos:\n",
    "\n",
    "- Cada novo aeroporto deve atender ao máximo de bairros próximos a ele; e\n",
    "- Cada novo aeroporto deve atender a pelo menos um bairro."
   ]
  },
  {
   "cell_type": "markdown",
   "metadata": {},
   "source": [
    "# O conjunto de dados"
   ]
  },
  {
   "cell_type": "markdown",
   "metadata": {},
   "source": [
    "Antes de explorarmos o conjunto de dados criado, definamos uma função para a sua visualização."
   ]
  },
  {
   "cell_type": "code",
   "execution_count": 21,
   "metadata": {},
   "outputs": [],
   "source": [
    "def gera_grafico_de_dispersao(*, dados, centroides=None):\n",
    "    if centroides is None:\n",
    "        rotulos = None\n",
    "    else:\n",
    "        rotulos = rotula_dados(dados=dados, centroides=centroides)\n",
    "\n",
    "    figura, eixo = plt.subplots(1, 1, squeeze=True)\n",
    "    figura.tight_layout()\n",
    "\n",
    "    sns.scatterplot(\n",
    "        x=dados[:, 0], y=dados[:, 1], palette=sns.color_palette(\"bright\", np.unique(rotulos).size), hue=rotulos, ax=eixo\n",
    "    )\n",
    "    \n",
    "    eixo.legend(bbox_to_anchor=(1.05, 1), loc=2, borderaxespad=0.0)\n",
    "    eixo.scatter(x=centroides[:, 0], y=centroides[:, 1], c=\"k\", marker=\"s\")\n",
    "\n",
    "    return figura, eixo"
   ]
  },
  {
   "cell_type": "markdown",
   "metadata": {},
   "source": [
    "Em seguimento às estipulações do problema proposto, os centros dos bairros dos distritos sob análise foram obtidos e armazenados no arquivo `coordenadas_bairros.csv`. Vamos carregar e visualizar um trecho de seu conteúdo."
   ]
  },
  {
   "cell_type": "code",
   "execution_count": 22,
   "metadata": {},
   "outputs": [
    {
     "data": {
      "text/html": [
       "<div>\n",
       "<style scoped>\n",
       "    .dataframe tbody tr th:only-of-type {\n",
       "        vertical-align: middle;\n",
       "    }\n",
       "\n",
       "    .dataframe tbody tr th {\n",
       "        vertical-align: top;\n",
       "    }\n",
       "\n",
       "    .dataframe thead th {\n",
       "        text-align: right;\n",
       "    }\n",
       "</style>\n",
       "<table border=\"1\" class=\"dataframe\">\n",
       "  <thead>\n",
       "    <tr style=\"text-align: right;\">\n",
       "      <th></th>\n",
       "      <th>Coordenadas</th>\n",
       "    </tr>\n",
       "    <tr>\n",
       "      <th>Aeroporto</th>\n",
       "      <th></th>\n",
       "    </tr>\n",
       "  </thead>\n",
       "  <tbody>\n",
       "    <tr>\n",
       "      <th>Val-de-Cans</th>\n",
       "      <td>-1.382092, -48.477506</td>\n",
       "    </tr>\n",
       "  </tbody>\n",
       "</table>\n",
       "</div>"
      ],
      "text/latex": [
       "\\begin{tabular}{ll}\n",
       "\\toprule\n",
       "{} &            Coordenadas \\\\\n",
       "Aeroporto   &                        \\\\\n",
       "\\midrule\n",
       "Val-de-Cans &  -1.382092, -48.477506 \\\\\n",
       "\\bottomrule\n",
       "\\end{tabular}\n"
      ],
      "text/plain": [
       "                       Coordenadas\n",
       "Aeroporto                         \n",
       "Val-de-Cans  -1.382092, -48.477506"
      ]
     },
     "execution_count": 22,
     "metadata": {},
     "output_type": "execute_result"
    }
   ],
   "source": [
    "aeroporto = pd.read_csv(\"dados/coordenadas_aeroporto.csv\", index_col=0)\n",
    "aeroporto"
   ]
  },
  {
   "cell_type": "code",
   "execution_count": 23,
   "metadata": {},
   "outputs": [
    {
     "name": "stdout",
     "output_type": "stream",
     "text": [
      "<class 'pandas.core.frame.DataFrame'>\n",
      "Index: 1 entries, Val-de-Cans to Val-de-Cans\n",
      "Data columns (total 1 columns):\n",
      " #   Column       Non-Null Count  Dtype \n",
      "---  ------       --------------  ----- \n",
      " 0   Coordenadas  1 non-null      object\n",
      "dtypes: object(1)\n",
      "memory usage: 16.0+ bytes\n"
     ]
    }
   ],
   "source": [
    "aeroporto.info()"
   ]
  },
  {
   "cell_type": "code",
   "execution_count": 24,
   "metadata": {},
   "outputs": [
    {
     "data": {
      "text/html": [
       "<div>\n",
       "<style scoped>\n",
       "    .dataframe tbody tr th:only-of-type {\n",
       "        vertical-align: middle;\n",
       "    }\n",
       "\n",
       "    .dataframe tbody tr th {\n",
       "        vertical-align: top;\n",
       "    }\n",
       "\n",
       "    .dataframe thead th {\n",
       "        text-align: right;\n",
       "    }\n",
       "</style>\n",
       "<table border=\"1\" class=\"dataframe\">\n",
       "  <thead>\n",
       "    <tr style=\"text-align: right;\">\n",
       "      <th></th>\n",
       "      <th>Coordenadas</th>\n",
       "    </tr>\n",
       "    <tr>\n",
       "      <th>Bairro</th>\n",
       "      <th></th>\n",
       "    </tr>\n",
       "  </thead>\n",
       "  <tbody>\n",
       "    <tr>\n",
       "      <th>Águas Lindas</th>\n",
       "      <td>-1.4106819, -48.3925318</td>\n",
       "    </tr>\n",
       "    <tr>\n",
       "      <th>Aurá</th>\n",
       "      <td>-1.4255977, -48.3847762</td>\n",
       "    </tr>\n",
       "    <tr>\n",
       "      <th>Barreiro</th>\n",
       "      <td>-1.4130584, -48.4836502</td>\n",
       "    </tr>\n",
       "    <tr>\n",
       "      <th>Batista Campos</th>\n",
       "      <td>-1.4609694, -48.4891385</td>\n",
       "    </tr>\n",
       "    <tr>\n",
       "      <th>Benguí</th>\n",
       "      <td>-1.3755029, -48.4561909</td>\n",
       "    </tr>\n",
       "  </tbody>\n",
       "</table>\n",
       "</div>"
      ],
      "text/latex": [
       "\\begin{tabular}{ll}\n",
       "\\toprule\n",
       "{} &              Coordenadas \\\\\n",
       "Bairro         &                          \\\\\n",
       "\\midrule\n",
       "Águas Lindas   &  -1.4106819, -48.3925318 \\\\\n",
       "Aurá           &  -1.4255977, -48.3847762 \\\\\n",
       "Barreiro       &  -1.4130584, -48.4836502 \\\\\n",
       "Batista Campos &  -1.4609694, -48.4891385 \\\\\n",
       "Benguí         &  -1.3755029, -48.4561909 \\\\\n",
       "\\bottomrule\n",
       "\\end{tabular}\n"
      ],
      "text/plain": [
       "                            Coordenadas\n",
       "Bairro                                 \n",
       "Águas Lindas    -1.4106819, -48.3925318\n",
       "Aurá            -1.4255977, -48.3847762\n",
       "Barreiro        -1.4130584, -48.4836502\n",
       "Batista Campos  -1.4609694, -48.4891385\n",
       "Benguí          -1.3755029, -48.4561909"
      ]
     },
     "execution_count": 24,
     "metadata": {},
     "output_type": "execute_result"
    }
   ],
   "source": [
    "bairros = pd.read_csv(\"dados/coordenadas_bairros_final.csv\", index_col=0)\n",
    "bairros.head(5)"
   ]
  },
  {
   "cell_type": "code",
   "execution_count": 25,
   "metadata": {},
   "outputs": [
    {
     "name": "stdout",
     "output_type": "stream",
     "text": [
      "<class 'pandas.core.frame.DataFrame'>\n",
      "Index: 40 entries, Águas Lindas to Val-de-Cães\n",
      "Data columns (total 1 columns):\n",
      " #   Column       Non-Null Count  Dtype \n",
      "---  ------       --------------  ----- \n",
      " 0   Coordenadas  40 non-null     object\n",
      "dtypes: object(1)\n",
      "memory usage: 640.0+ bytes\n"
     ]
    }
   ],
   "source": [
    "bairros.info()"
   ]
  },
  {
   "cell_type": "markdown",
   "metadata": {},
   "source": [
    "## Pré-processamento"
   ]
  },
  {
   "cell_type": "markdown",
   "metadata": {},
   "source": [
    "Como se pode ver, as coordenadas do aeroporto e dos bairros são descritas por objetos `str` e de forma conjunta, impedindo que nós visualizemos o conjunto de dados e o clusterizemos. Em adição, os dados estão em um objeto `pandas.DataFrame`, quando a implementação realizada na classe `KMedias` suporta apenas objetos `numpy.ndarray`.\n",
    "\n",
    "Dessa forma, precisamos\n",
    "\n",
    "- separar as coordenadas em `Latitude` e `Longitude`; e\n",
    "- converter os objetos `pandas.DataFrame` em objetos `numpy.ndarray`.\n",
    "\n",
    "Comecemos pela definição das colunas `Latitude` e `Longitude`."
   ]
  },
  {
   "cell_type": "code",
   "execution_count": 26,
   "metadata": {},
   "outputs": [],
   "source": [
    "aeroporto[\"Latitude\"] = aeroporto[\"Coordenadas\"].apply(lambda x: x.split(\", \")[0])\n",
    "aeroporto[\"Longitude\"] = aeroporto[\"Coordenadas\"].apply(lambda x: x.split(\", \")[1])"
   ]
  },
  {
   "cell_type": "code",
   "execution_count": 27,
   "metadata": {},
   "outputs": [],
   "source": [
    "aeroporto.drop(\"Coordenadas\", axis=1, inplace=True)"
   ]
  },
  {
   "cell_type": "code",
   "execution_count": 28,
   "metadata": {},
   "outputs": [],
   "source": [
    "aeroporto[\"Latitude\"] = pd.to_numeric(aeroporto[\"Latitude\"])\n",
    "aeroporto[\"Longitude\"] = pd.to_numeric(aeroporto[\"Longitude\"])"
   ]
  },
  {
   "cell_type": "code",
   "execution_count": 29,
   "metadata": {},
   "outputs": [
    {
     "data": {
      "text/html": [
       "<div>\n",
       "<style scoped>\n",
       "    .dataframe tbody tr th:only-of-type {\n",
       "        vertical-align: middle;\n",
       "    }\n",
       "\n",
       "    .dataframe tbody tr th {\n",
       "        vertical-align: top;\n",
       "    }\n",
       "\n",
       "    .dataframe thead th {\n",
       "        text-align: right;\n",
       "    }\n",
       "</style>\n",
       "<table border=\"1\" class=\"dataframe\">\n",
       "  <thead>\n",
       "    <tr style=\"text-align: right;\">\n",
       "      <th></th>\n",
       "      <th>Latitude</th>\n",
       "      <th>Longitude</th>\n",
       "    </tr>\n",
       "    <tr>\n",
       "      <th>Aeroporto</th>\n",
       "      <th></th>\n",
       "      <th></th>\n",
       "    </tr>\n",
       "  </thead>\n",
       "  <tbody>\n",
       "    <tr>\n",
       "      <th>Val-de-Cans</th>\n",
       "      <td>-1.382092</td>\n",
       "      <td>-48.477506</td>\n",
       "    </tr>\n",
       "  </tbody>\n",
       "</table>\n",
       "</div>"
      ],
      "text/latex": [
       "\\begin{tabular}{lrr}\n",
       "\\toprule\n",
       "{} &  Latitude &  Longitude \\\\\n",
       "Aeroporto   &           &            \\\\\n",
       "\\midrule\n",
       "Val-de-Cans & -1.382092 & -48.477506 \\\\\n",
       "\\bottomrule\n",
       "\\end{tabular}\n"
      ],
      "text/plain": [
       "             Latitude  Longitude\n",
       "Aeroporto                       \n",
       "Val-de-Cans -1.382092 -48.477506"
      ]
     },
     "execution_count": 29,
     "metadata": {},
     "output_type": "execute_result"
    }
   ],
   "source": [
    "aeroporto"
   ]
  },
  {
   "cell_type": "code",
   "execution_count": 30,
   "metadata": {},
   "outputs": [],
   "source": [
    "bairros[\"Latitude\"] = bairros[\"Coordenadas\"].apply(lambda x: x.split(\", \")[0])\n",
    "bairros[\"Longitude\"] = bairros[\"Coordenadas\"].apply(lambda x: x.split(\", \")[1])"
   ]
  },
  {
   "cell_type": "code",
   "execution_count": 31,
   "metadata": {},
   "outputs": [],
   "source": [
    "bairros.drop(\"Coordenadas\", axis=1, inplace=True)"
   ]
  },
  {
   "cell_type": "code",
   "execution_count": 32,
   "metadata": {},
   "outputs": [],
   "source": [
    "bairros[\"Latitude\"] = pd.to_numeric(bairros[\"Latitude\"])\n",
    "bairros[\"Longitude\"] = pd.to_numeric(bairros[\"Longitude\"])"
   ]
  },
  {
   "cell_type": "code",
   "execution_count": 33,
   "metadata": {},
   "outputs": [
    {
     "data": {
      "text/html": [
       "<div>\n",
       "<style scoped>\n",
       "    .dataframe tbody tr th:only-of-type {\n",
       "        vertical-align: middle;\n",
       "    }\n",
       "\n",
       "    .dataframe tbody tr th {\n",
       "        vertical-align: top;\n",
       "    }\n",
       "\n",
       "    .dataframe thead th {\n",
       "        text-align: right;\n",
       "    }\n",
       "</style>\n",
       "<table border=\"1\" class=\"dataframe\">\n",
       "  <thead>\n",
       "    <tr style=\"text-align: right;\">\n",
       "      <th></th>\n",
       "      <th>Latitude</th>\n",
       "      <th>Longitude</th>\n",
       "    </tr>\n",
       "    <tr>\n",
       "      <th>Bairro</th>\n",
       "      <th></th>\n",
       "      <th></th>\n",
       "    </tr>\n",
       "  </thead>\n",
       "  <tbody>\n",
       "    <tr>\n",
       "      <th>Águas Lindas</th>\n",
       "      <td>-1.410682</td>\n",
       "      <td>-48.392532</td>\n",
       "    </tr>\n",
       "    <tr>\n",
       "      <th>Aurá</th>\n",
       "      <td>-1.425598</td>\n",
       "      <td>-48.384776</td>\n",
       "    </tr>\n",
       "    <tr>\n",
       "      <th>Barreiro</th>\n",
       "      <td>-1.413058</td>\n",
       "      <td>-48.483650</td>\n",
       "    </tr>\n",
       "    <tr>\n",
       "      <th>Batista Campos</th>\n",
       "      <td>-1.460969</td>\n",
       "      <td>-48.489139</td>\n",
       "    </tr>\n",
       "    <tr>\n",
       "      <th>Benguí</th>\n",
       "      <td>-1.375503</td>\n",
       "      <td>-48.456191</td>\n",
       "    </tr>\n",
       "  </tbody>\n",
       "</table>\n",
       "</div>"
      ],
      "text/latex": [
       "\\begin{tabular}{lrr}\n",
       "\\toprule\n",
       "{} &  Latitude &  Longitude \\\\\n",
       "Bairro         &           &            \\\\\n",
       "\\midrule\n",
       "Águas Lindas   & -1.410682 & -48.392532 \\\\\n",
       "Aurá           & -1.425598 & -48.384776 \\\\\n",
       "Barreiro       & -1.413058 & -48.483650 \\\\\n",
       "Batista Campos & -1.460969 & -48.489139 \\\\\n",
       "Benguí         & -1.375503 & -48.456191 \\\\\n",
       "\\bottomrule\n",
       "\\end{tabular}\n"
      ],
      "text/plain": [
       "                Latitude  Longitude\n",
       "Bairro                             \n",
       "Águas Lindas   -1.410682 -48.392532\n",
       "Aurá           -1.425598 -48.384776\n",
       "Barreiro       -1.413058 -48.483650\n",
       "Batista Campos -1.460969 -48.489139\n",
       "Benguí         -1.375503 -48.456191"
      ]
     },
     "execution_count": 33,
     "metadata": {},
     "output_type": "execute_result"
    }
   ],
   "source": [
    "bairros.head(5)"
   ]
  },
  {
   "cell_type": "markdown",
   "metadata": {},
   "source": [
    "Por fim, convertamos os objetos `pandas.DataFrame` em objetos `numpy.ndarray`."
   ]
  },
  {
   "cell_type": "code",
   "execution_count": 34,
   "metadata": {},
   "outputs": [],
   "source": [
    "aeroporto = aeroporto.to_numpy()\n",
    "bairros = bairros.to_numpy()"
   ]
  },
  {
   "cell_type": "code",
   "execution_count": 35,
   "metadata": {},
   "outputs": [
    {
     "data": {
      "text/plain": [
       "array([[ -1.382092, -48.477506]])"
      ]
     },
     "execution_count": 35,
     "metadata": {},
     "output_type": "execute_result"
    }
   ],
   "source": [
    "aeroporto"
   ]
  },
  {
   "cell_type": "code",
   "execution_count": 36,
   "metadata": {},
   "outputs": [
    {
     "data": {
      "text/plain": [
       "array([[ -1.4106819, -48.3925318],\n",
       "       [ -1.4255977, -48.3847762],\n",
       "       [ -1.4130584, -48.4836502],\n",
       "       [ -1.4609694, -48.4891385],\n",
       "       [ -1.3755029, -48.4561909]])"
      ]
     },
     "execution_count": 36,
     "metadata": {},
     "output_type": "execute_result"
    }
   ],
   "source": [
    "bairros[:5, :]"
   ]
  },
  {
   "cell_type": "markdown",
   "metadata": {},
   "source": [
    "Agora, podemos visualizar adequadamente o conjunto de dados à mão, bem como a localização do já existente aeroporto."
   ]
  },
  {
   "cell_type": "code",
   "execution_count": 37,
   "metadata": {},
   "outputs": [
    {
     "data": {
      "application/pdf": "[encoded data removed]",
      "text/plain": [
       "<Figure size 640x480 with 1 Axes>"
      ]
     },
     "metadata": {},
     "output_type": "display_data"
    }
   ],
   "source": [
    "figura, eixo = gera_grafico_de_dispersao(dados=bairros, centroides=aeroporto)"
   ]
  },
  {
   "cell_type": "markdown",
   "metadata": {},
   "source": [
    "## Processamento"
   ]
  },
  {
   "cell_type": "markdown",
   "metadata": {},
   "source": [
    "Uma vez pré-processado o conjunto de dados, temos as variáveis `aeroporto`, que contém o centroide fixo representativo do Aeroporto Internacional Val-de-Cans, e `bairros`, que contém as coordenadas de todos os bairros relevantes. Já podemos seguir para o instanciamento e uso da classe `KMedias`; contudo, definamos antes algumas funções auxiliares para execução dos testes e exposição dos resultados."
   ]
  },
  {
   "cell_type": "code",
   "execution_count": 38,
   "metadata": {},
   "outputs": [],
   "source": [
    "def clusteriza(*, dados, numero_de_centroides, centroides_fixos):\n",
    "    k_medias = KMedias(numero_de_centroides=numero_de_centroides)\n",
    "    centroides = k_medias._clusteriza_dados(dados=dados, centroides_fixos=centroides_fixos)\n",
    "    erro = calcula_erro_da_solucao(dados, centroides)\n",
    "\n",
    "    return centroides, erro"
   ]
  },
  {
   "cell_type": "code",
   "execution_count": 39,
   "metadata": {},
   "outputs": [],
   "source": [
    "def clusteriza_em_paralelo(*, dados, numero_de_centroides, centroides_fixos, cliente, numero_de_execucoes):\n",
    "    solucoes = pd.DataFrame(index=range(numero_de_execucoes), columns=[\"Solução\", \"Erro\"])\n",
    "    futuros = [cliente.submit(\n",
    "        clusteriza, dados=dados, numero_de_centroides=numero_de_centroides, centroides_fixos=centroides_fixos, pure=False\n",
    "    ) for _ in range(numero_de_execucoes)]\n",
    "\n",
    "    for futuro in distributed.as_completed(futuros):\n",
    "        indice_do_futuro = futuros.index(futuro)\n",
    "        solucoes.iloc[indice_do_futuro, :] = np.array(futuro.result(), dtype=object)\n",
    "\n",
    "    solucoes = solucoes.sort_values(by=\"Erro\", ignore_index=True).infer_objects()\n",
    "\n",
    "    return solucoes"
   ]
  },
  {
   "cell_type": "code",
   "execution_count": 40,
   "metadata": {},
   "outputs": [],
   "source": [
    "def gera_graficos_de_dispersao(*, dados, melhor_solucao, pior_solucao):\n",
    "    rotulos_da_melhor_solucao = rotula_dados(dados=dados, centroides=melhor_solucao)\n",
    "    rotulos_da_pior_solucao = rotula_dados(dados=dados, centroides=pior_solucao)\n",
    "    \n",
    "    figura, eixos = plt.subplots(1, 2, squeeze=True, sharey=True, figsize=(10, 5))\n",
    "    figura.tight_layout()\n",
    "    \n",
    "    sns.scatterplot(\n",
    "        x=dados[:, 0],\n",
    "        y=dados[:, 1],\n",
    "        palette=sns.color_palette(\"bright\", np.unique(rotulos_da_melhor_solucao).size),\n",
    "        hue=rotulos_da_melhor_solucao,\n",
    "        ax=eixos[0],\n",
    "        legend=False\n",
    "    )\n",
    "    \n",
    "    eixos[0].scatter(x=melhor_solucao[:, 0], y=melhor_solucao[:, 1], c=\"k\", marker=\"s\")\n",
    "    eixos[0].set_title(\"Melhor solução\")\n",
    "    \n",
    "    sns.scatterplot(\n",
    "        x=dados[:, 0],\n",
    "        y=dados[:, 1],\n",
    "        palette=sns.color_palette(\"bright\", np.unique(rotulos_da_pior_solucao).size),\n",
    "        hue=rotulos_da_pior_solucao,\n",
    "        ax=eixos[1],\n",
    "        legend=False\n",
    "    )\n",
    "    \n",
    "    eixos[1].scatter(x=pior_solucao[:, 0], y=pior_solucao[:, 1], c=\"k\", marker=\"s\")\n",
    "    eixos[1].set_title(\"Pior solução\")\n",
    "    \n",
    "    return figura, eixos"
   ]
  },
  {
   "cell_type": "markdown",
   "metadata": {},
   "source": [
    "Isto feito, prossigamos agora para a rotina de clusterização *per se*. A fim de explorar bem o espaço de busca, executemos o `KMedias` 1000 vezes."
   ]
  },
  {
   "cell_type": "code",
   "execution_count": 41,
   "metadata": {},
   "outputs": [],
   "source": [
    "solucoes = clusteriza_em_paralelo(\n",
    "    dados=bairros, numero_de_centroides=4, centroides_fixos=aeroporto, cliente=cliente, numero_de_execucoes=1000\n",
    ")"
   ]
  },
  {
   "cell_type": "markdown",
   "metadata": {},
   "source": [
    "**Observação:** caso você queira ver o `dask.Client` executando as 1000 tarefas em paralelo, [clique aqui](http://localhost:8787/) enquanto o notebook gera as soluções.\n",
    "\n",
    "Agora, visualizemos as vinte melhores soluções."
   ]
  },
  {
   "cell_type": "code",
   "execution_count": 46,
   "metadata": {},
   "outputs": [
    {
     "data": {
      "text/html": [
       "<div>\n",
       "<style scoped>\n",
       "    .dataframe tbody tr th:only-of-type {\n",
       "        vertical-align: middle;\n",
       "    }\n",
       "\n",
       "    .dataframe tbody tr th {\n",
       "        vertical-align: top;\n",
       "    }\n",
       "\n",
       "    .dataframe thead th {\n",
       "        text-align: right;\n",
       "    }\n",
       "</style>\n",
       "<table border=\"1\" class=\"dataframe\">\n",
       "  <thead>\n",
       "    <tr style=\"text-align: right;\">\n",
       "      <th></th>\n",
       "      <th>Solução</th>\n",
       "      <th>Erro</th>\n",
       "    </tr>\n",
       "  </thead>\n",
       "  <tbody>\n",
       "    <tr>\n",
       "      <th>0</th>\n",
       "      <td>[[-1.382092, -48.477506], [-1.3600494555555556...</td>\n",
       "      <td>0.021012</td>\n",
       "    </tr>\n",
       "    <tr>\n",
       "      <th>1</th>\n",
       "      <td>[[-1.382092, -48.477506], [-1.4138377428571427...</td>\n",
       "      <td>0.021012</td>\n",
       "    </tr>\n",
       "    <tr>\n",
       "      <th>2</th>\n",
       "      <td>[[-1.382092, -48.477506], [-1.451824013888889,...</td>\n",
       "      <td>0.021012</td>\n",
       "    </tr>\n",
       "    <tr>\n",
       "      <th>3</th>\n",
       "      <td>[[-1.382092, -48.477506], [-1.3600494555555556...</td>\n",
       "      <td>0.021012</td>\n",
       "    </tr>\n",
       "    <tr>\n",
       "      <th>4</th>\n",
       "      <td>[[-1.382092, -48.477506], [-1.4138377428571427...</td>\n",
       "      <td>0.021012</td>\n",
       "    </tr>\n",
       "    <tr>\n",
       "      <th>5</th>\n",
       "      <td>[[-1.382092, -48.477506], [-1.451824013888889,...</td>\n",
       "      <td>0.021012</td>\n",
       "    </tr>\n",
       "    <tr>\n",
       "      <th>6</th>\n",
       "      <td>[[-1.382092, -48.477506], [-1.451824013888889,...</td>\n",
       "      <td>0.021012</td>\n",
       "    </tr>\n",
       "    <tr>\n",
       "      <th>7</th>\n",
       "      <td>[[-1.382092, -48.477506], [-1.4138377428571427...</td>\n",
       "      <td>0.021012</td>\n",
       "    </tr>\n",
       "    <tr>\n",
       "      <th>8</th>\n",
       "      <td>[[-1.382092, -48.477506], [-1.4138377428571427...</td>\n",
       "      <td>0.021012</td>\n",
       "    </tr>\n",
       "    <tr>\n",
       "      <th>9</th>\n",
       "      <td>[[-1.382092, -48.477506], [-1.4138377428571427...</td>\n",
       "      <td>0.021012</td>\n",
       "    </tr>\n",
       "    <tr>\n",
       "      <th>10</th>\n",
       "      <td>[[-1.382092, -48.477506], [-1.451824013888889,...</td>\n",
       "      <td>0.021012</td>\n",
       "    </tr>\n",
       "    <tr>\n",
       "      <th>11</th>\n",
       "      <td>[[-1.382092, -48.477506], [-1.451824013888889,...</td>\n",
       "      <td>0.021012</td>\n",
       "    </tr>\n",
       "    <tr>\n",
       "      <th>12</th>\n",
       "      <td>[[-1.382092, -48.477506], [-1.3600494555555556...</td>\n",
       "      <td>0.021012</td>\n",
       "    </tr>\n",
       "    <tr>\n",
       "      <th>13</th>\n",
       "      <td>[[-1.382092, -48.477506], [-1.3600494555555556...</td>\n",
       "      <td>0.021012</td>\n",
       "    </tr>\n",
       "    <tr>\n",
       "      <th>14</th>\n",
       "      <td>[[-1.382092, -48.477506], [-1.3600494555555556...</td>\n",
       "      <td>0.021012</td>\n",
       "    </tr>\n",
       "    <tr>\n",
       "      <th>15</th>\n",
       "      <td>[[-1.382092, -48.477506], [-1.451824013888889,...</td>\n",
       "      <td>0.021012</td>\n",
       "    </tr>\n",
       "    <tr>\n",
       "      <th>16</th>\n",
       "      <td>[[-1.382092, -48.477506], [-1.4138377428571427...</td>\n",
       "      <td>0.021012</td>\n",
       "    </tr>\n",
       "    <tr>\n",
       "      <th>17</th>\n",
       "      <td>[[-1.382092, -48.477506], [-1.3600494555555556...</td>\n",
       "      <td>0.021012</td>\n",
       "    </tr>\n",
       "    <tr>\n",
       "      <th>18</th>\n",
       "      <td>[[-1.382092, -48.477506], [-1.451824013888889,...</td>\n",
       "      <td>0.021012</td>\n",
       "    </tr>\n",
       "    <tr>\n",
       "      <th>19</th>\n",
       "      <td>[[-1.382092, -48.477506], [-1.4138377428571427...</td>\n",
       "      <td>0.021012</td>\n",
       "    </tr>\n",
       "  </tbody>\n",
       "</table>\n",
       "</div>"
      ],
      "text/latex": [
       "\\begin{tabular}{llr}\n",
       "\\toprule\n",
       "{} &                                            Solução &      Erro \\\\\n",
       "\\midrule\n",
       "0  &  [[-1.382092, -48.477506], [-1.3600494555555556... &  0.021012 \\\\\n",
       "1  &  [[-1.382092, -48.477506], [-1.4138377428571427... &  0.021012 \\\\\n",
       "2  &  [[-1.382092, -48.477506], [-1.451824013888889,... &  0.021012 \\\\\n",
       "3  &  [[-1.382092, -48.477506], [-1.3600494555555556... &  0.021012 \\\\\n",
       "4  &  [[-1.382092, -48.477506], [-1.4138377428571427... &  0.021012 \\\\\n",
       "5  &  [[-1.382092, -48.477506], [-1.451824013888889,... &  0.021012 \\\\\n",
       "6  &  [[-1.382092, -48.477506], [-1.451824013888889,... &  0.021012 \\\\\n",
       "7  &  [[-1.382092, -48.477506], [-1.4138377428571427... &  0.021012 \\\\\n",
       "8  &  [[-1.382092, -48.477506], [-1.4138377428571427... &  0.021012 \\\\\n",
       "9  &  [[-1.382092, -48.477506], [-1.4138377428571427... &  0.021012 \\\\\n",
       "10 &  [[-1.382092, -48.477506], [-1.451824013888889,... &  0.021012 \\\\\n",
       "11 &  [[-1.382092, -48.477506], [-1.451824013888889,... &  0.021012 \\\\\n",
       "12 &  [[-1.382092, -48.477506], [-1.3600494555555556... &  0.021012 \\\\\n",
       "13 &  [[-1.382092, -48.477506], [-1.3600494555555556... &  0.021012 \\\\\n",
       "14 &  [[-1.382092, -48.477506], [-1.3600494555555556... &  0.021012 \\\\\n",
       "15 &  [[-1.382092, -48.477506], [-1.451824013888889,... &  0.021012 \\\\\n",
       "16 &  [[-1.382092, -48.477506], [-1.4138377428571427... &  0.021012 \\\\\n",
       "17 &  [[-1.382092, -48.477506], [-1.3600494555555556... &  0.021012 \\\\\n",
       "18 &  [[-1.382092, -48.477506], [-1.451824013888889,... &  0.021012 \\\\\n",
       "19 &  [[-1.382092, -48.477506], [-1.4138377428571427... &  0.021012 \\\\\n",
       "\\bottomrule\n",
       "\\end{tabular}\n"
      ],
      "text/plain": [
       "                                              Solução      Erro\n",
       "0   [[-1.382092, -48.477506], [-1.3600494555555556...  0.021012\n",
       "1   [[-1.382092, -48.477506], [-1.4138377428571427...  0.021012\n",
       "2   [[-1.382092, -48.477506], [-1.451824013888889,...  0.021012\n",
       "3   [[-1.382092, -48.477506], [-1.3600494555555556...  0.021012\n",
       "4   [[-1.382092, -48.477506], [-1.4138377428571427...  0.021012\n",
       "5   [[-1.382092, -48.477506], [-1.451824013888889,...  0.021012\n",
       "6   [[-1.382092, -48.477506], [-1.451824013888889,...  0.021012\n",
       "7   [[-1.382092, -48.477506], [-1.4138377428571427...  0.021012\n",
       "8   [[-1.382092, -48.477506], [-1.4138377428571427...  0.021012\n",
       "9   [[-1.382092, -48.477506], [-1.4138377428571427...  0.021012\n",
       "10  [[-1.382092, -48.477506], [-1.451824013888889,...  0.021012\n",
       "11  [[-1.382092, -48.477506], [-1.451824013888889,...  0.021012\n",
       "12  [[-1.382092, -48.477506], [-1.3600494555555556...  0.021012\n",
       "13  [[-1.382092, -48.477506], [-1.3600494555555556...  0.021012\n",
       "14  [[-1.382092, -48.477506], [-1.3600494555555556...  0.021012\n",
       "15  [[-1.382092, -48.477506], [-1.451824013888889,...  0.021012\n",
       "16  [[-1.382092, -48.477506], [-1.4138377428571427...  0.021012\n",
       "17  [[-1.382092, -48.477506], [-1.3600494555555556...  0.021012\n",
       "18  [[-1.382092, -48.477506], [-1.451824013888889,...  0.021012\n",
       "19  [[-1.382092, -48.477506], [-1.4138377428571427...  0.021012"
      ]
     },
     "execution_count": 46,
     "metadata": {},
     "output_type": "execute_result"
    }
   ],
   "source": [
    "solucoes.head(20)"
   ]
  },
  {
   "cell_type": "markdown",
   "metadata": {},
   "source": [
    "E agora, as vinte piores."
   ]
  },
  {
   "cell_type": "code",
   "execution_count": 47,
   "metadata": {},
   "outputs": [
    {
     "data": {
      "text/html": [
       "<div>\n",
       "<style scoped>\n",
       "    .dataframe tbody tr th:only-of-type {\n",
       "        vertical-align: middle;\n",
       "    }\n",
       "\n",
       "    .dataframe tbody tr th {\n",
       "        vertical-align: top;\n",
       "    }\n",
       "\n",
       "    .dataframe thead th {\n",
       "        text-align: right;\n",
       "    }\n",
       "</style>\n",
       "<table border=\"1\" class=\"dataframe\">\n",
       "  <thead>\n",
       "    <tr style=\"text-align: right;\">\n",
       "      <th></th>\n",
       "      <th>Solução</th>\n",
       "      <th>Erro</th>\n",
       "    </tr>\n",
       "  </thead>\n",
       "  <tbody>\n",
       "    <tr>\n",
       "      <th>980</th>\n",
       "      <td>[[-1.382092, -48.477506], [-1.3954149200000001...</td>\n",
       "      <td>0.028972</td>\n",
       "    </tr>\n",
       "    <tr>\n",
       "      <th>981</th>\n",
       "      <td>[[-1.382092, -48.477506], [-1.3954149200000001...</td>\n",
       "      <td>0.028972</td>\n",
       "    </tr>\n",
       "    <tr>\n",
       "      <th>982</th>\n",
       "      <td>[[-1.382092, -48.477506], [-1.4298361312499996...</td>\n",
       "      <td>0.028972</td>\n",
       "    </tr>\n",
       "    <tr>\n",
       "      <th>983</th>\n",
       "      <td>[[-1.382092, -48.477506], [-1.4298361312499996...</td>\n",
       "      <td>0.028972</td>\n",
       "    </tr>\n",
       "    <tr>\n",
       "      <th>984</th>\n",
       "      <td>[[-1.382092, -48.477506], [-1.4538568, -48.482...</td>\n",
       "      <td>0.028972</td>\n",
       "    </tr>\n",
       "    <tr>\n",
       "      <th>985</th>\n",
       "      <td>[[-1.382092, -48.477506], [-1.39563595, -48.43...</td>\n",
       "      <td>0.029045</td>\n",
       "    </tr>\n",
       "    <tr>\n",
       "      <th>986</th>\n",
       "      <td>[[-1.382092, -48.477506], [-1.45099506875, -48...</td>\n",
       "      <td>0.029045</td>\n",
       "    </tr>\n",
       "    <tr>\n",
       "      <th>987</th>\n",
       "      <td>[[-1.382092, -48.477506], [-1.39563595, -48.43...</td>\n",
       "      <td>0.029045</td>\n",
       "    </tr>\n",
       "    <tr>\n",
       "      <th>988</th>\n",
       "      <td>[[-1.382092, -48.477506], [-1.4439537625, -48....</td>\n",
       "      <td>0.029045</td>\n",
       "    </tr>\n",
       "    <tr>\n",
       "      <th>989</th>\n",
       "      <td>[[-1.382092, -48.477506], [-1.4439537625, -48....</td>\n",
       "      <td>0.029045</td>\n",
       "    </tr>\n",
       "    <tr>\n",
       "      <th>990</th>\n",
       "      <td>[[-1.382092, -48.477506], [-1.45099506875, -48...</td>\n",
       "      <td>0.029045</td>\n",
       "    </tr>\n",
       "    <tr>\n",
       "      <th>991</th>\n",
       "      <td>[[-1.382092, -48.477506], [-1.39563595, -48.43...</td>\n",
       "      <td>0.029045</td>\n",
       "    </tr>\n",
       "    <tr>\n",
       "      <th>992</th>\n",
       "      <td>[[-1.382092, -48.477506], [-1.4439537625, -48....</td>\n",
       "      <td>0.029045</td>\n",
       "    </tr>\n",
       "    <tr>\n",
       "      <th>993</th>\n",
       "      <td>[[-1.382092, -48.477506], [-1.4439537625, -48....</td>\n",
       "      <td>0.029045</td>\n",
       "    </tr>\n",
       "    <tr>\n",
       "      <th>994</th>\n",
       "      <td>[[-1.382092, -48.477506], [-1.40239915, -48.42...</td>\n",
       "      <td>0.029069</td>\n",
       "    </tr>\n",
       "    <tr>\n",
       "      <th>995</th>\n",
       "      <td>[[-1.382092, -48.477506], [-1.45099506875, -48...</td>\n",
       "      <td>0.029206</td>\n",
       "    </tr>\n",
       "    <tr>\n",
       "      <th>996</th>\n",
       "      <td>[[-1.382092, -48.477506], [-1.3888658769230768...</td>\n",
       "      <td>0.029443</td>\n",
       "    </tr>\n",
       "    <tr>\n",
       "      <th>997</th>\n",
       "      <td>[[-1.382092, -48.477506], [-1.461016838888889,...</td>\n",
       "      <td>0.029622</td>\n",
       "    </tr>\n",
       "    <tr>\n",
       "      <th>998</th>\n",
       "      <td>[[-1.382092, -48.477506], [-1.4419787727272728...</td>\n",
       "      <td>0.029700</td>\n",
       "    </tr>\n",
       "    <tr>\n",
       "      <th>999</th>\n",
       "      <td>[[-1.382092, -48.477506], [-1.4353352, -48.483...</td>\n",
       "      <td>0.029913</td>\n",
       "    </tr>\n",
       "  </tbody>\n",
       "</table>\n",
       "</div>"
      ],
      "text/latex": [
       "\\begin{tabular}{llr}\n",
       "\\toprule\n",
       "{} &                                            Solução &      Erro \\\\\n",
       "\\midrule\n",
       "980 &  [[-1.382092, -48.477506], [-1.3954149200000001... &  0.028972 \\\\\n",
       "981 &  [[-1.382092, -48.477506], [-1.3954149200000001... &  0.028972 \\\\\n",
       "982 &  [[-1.382092, -48.477506], [-1.4298361312499996... &  0.028972 \\\\\n",
       "983 &  [[-1.382092, -48.477506], [-1.4298361312499996... &  0.028972 \\\\\n",
       "984 &  [[-1.382092, -48.477506], [-1.4538568, -48.482... &  0.028972 \\\\\n",
       "985 &  [[-1.382092, -48.477506], [-1.39563595, -48.43... &  0.029045 \\\\\n",
       "986 &  [[-1.382092, -48.477506], [-1.45099506875, -48... &  0.029045 \\\\\n",
       "987 &  [[-1.382092, -48.477506], [-1.39563595, -48.43... &  0.029045 \\\\\n",
       "988 &  [[-1.382092, -48.477506], [-1.4439537625, -48.... &  0.029045 \\\\\n",
       "989 &  [[-1.382092, -48.477506], [-1.4439537625, -48.... &  0.029045 \\\\\n",
       "990 &  [[-1.382092, -48.477506], [-1.45099506875, -48... &  0.029045 \\\\\n",
       "991 &  [[-1.382092, -48.477506], [-1.39563595, -48.43... &  0.029045 \\\\\n",
       "992 &  [[-1.382092, -48.477506], [-1.4439537625, -48.... &  0.029045 \\\\\n",
       "993 &  [[-1.382092, -48.477506], [-1.4439537625, -48.... &  0.029045 \\\\\n",
       "994 &  [[-1.382092, -48.477506], [-1.40239915, -48.42... &  0.029069 \\\\\n",
       "995 &  [[-1.382092, -48.477506], [-1.45099506875, -48... &  0.029206 \\\\\n",
       "996 &  [[-1.382092, -48.477506], [-1.3888658769230768... &  0.029443 \\\\\n",
       "997 &  [[-1.382092, -48.477506], [-1.461016838888889,... &  0.029622 \\\\\n",
       "998 &  [[-1.382092, -48.477506], [-1.4419787727272728... &  0.029700 \\\\\n",
       "999 &  [[-1.382092, -48.477506], [-1.4353352, -48.483... &  0.029913 \\\\\n",
       "\\bottomrule\n",
       "\\end{tabular}\n"
      ],
      "text/plain": [
       "                                               Solução      Erro\n",
       "980  [[-1.382092, -48.477506], [-1.3954149200000001...  0.028972\n",
       "981  [[-1.382092, -48.477506], [-1.3954149200000001...  0.028972\n",
       "982  [[-1.382092, -48.477506], [-1.4298361312499996...  0.028972\n",
       "983  [[-1.382092, -48.477506], [-1.4298361312499996...  0.028972\n",
       "984  [[-1.382092, -48.477506], [-1.4538568, -48.482...  0.028972\n",
       "985  [[-1.382092, -48.477506], [-1.39563595, -48.43...  0.029045\n",
       "986  [[-1.382092, -48.477506], [-1.45099506875, -48...  0.029045\n",
       "987  [[-1.382092, -48.477506], [-1.39563595, -48.43...  0.029045\n",
       "988  [[-1.382092, -48.477506], [-1.4439537625, -48....  0.029045\n",
       "989  [[-1.382092, -48.477506], [-1.4439537625, -48....  0.029045\n",
       "990  [[-1.382092, -48.477506], [-1.45099506875, -48...  0.029045\n",
       "991  [[-1.382092, -48.477506], [-1.39563595, -48.43...  0.029045\n",
       "992  [[-1.382092, -48.477506], [-1.4439537625, -48....  0.029045\n",
       "993  [[-1.382092, -48.477506], [-1.4439537625, -48....  0.029045\n",
       "994  [[-1.382092, -48.477506], [-1.40239915, -48.42...  0.029069\n",
       "995  [[-1.382092, -48.477506], [-1.45099506875, -48...  0.029206\n",
       "996  [[-1.382092, -48.477506], [-1.3888658769230768...  0.029443\n",
       "997  [[-1.382092, -48.477506], [-1.461016838888889,...  0.029622\n",
       "998  [[-1.382092, -48.477506], [-1.4419787727272728...  0.029700\n",
       "999  [[-1.382092, -48.477506], [-1.4353352, -48.483...  0.029913"
      ]
     },
     "execution_count": 47,
     "metadata": {},
     "output_type": "execute_result"
    }
   ],
   "source": [
    "solucoes.tail(20)"
   ]
  },
  {
   "cell_type": "markdown",
   "metadata": {},
   "source": [
    "Temos acima um objeto `pandas.DataFrame` contendo as soluções e os erros delas para cada uma das 1000 execuções que realizamos. Vejamos a melhor e a pior solução dentre as encontradas nas 1000 execuções."
   ]
  },
  {
   "cell_type": "code",
   "execution_count": 43,
   "metadata": {},
   "outputs": [],
   "source": [
    "melhor_solucao = solucoes.iloc[0, :]\n",
    "pior_solucao = solucoes.iloc[-1, :]"
   ]
  },
  {
   "cell_type": "code",
   "execution_count": 44,
   "metadata": {},
   "outputs": [
    {
     "data": {
      "application/pdf": "[encoded data removed]",
      "text/plain": [
       "<Figure size 1000x500 with 2 Axes>"
      ]
     },
     "metadata": {},
     "output_type": "display_data"
    }
   ],
   "source": [
    "figura, eixos = gera_graficos_de_dispersao(dados=bairros, melhor_solucao=melhor_solucao[0], pior_solucao=pior_solucao[0])"
   ]
  },
  {
   "cell_type": "markdown",
   "metadata": {},
   "source": [
    "Observe que o o centroide do cluster azul corresponde ao aeroporto já existente, enquanto que os demais centroides representam os aeroportos a serem construídos."
   ]
  },
  {
   "cell_type": "code",
   "execution_count": 45,
   "metadata": {},
   "outputs": [
    {
     "name": "stdout",
     "output_type": "stream",
     "text": [
      "Erro da melhor solução: 0.021012302464794186\n",
      "Erro da pior solução:   0.02991336948616295\n",
      "Diferença dos erros:    0.008901067021368763\n"
     ]
    }
   ],
   "source": [
    "print(f\"Erro da melhor solução: {melhor_solucao[1]}\\n\"\n",
    "      f\"Erro da pior solução:   {pior_solucao[1]}\\n\"\n",
    "      f\"Diferença dos erros:    {pior_solucao[1] - melhor_solucao[1]}\")"
   ]
  },
  {
   "cell_type": "markdown",
   "metadata": {},
   "source": [
    "Embora, no papel, a diferença do erro entre a melhor e a pior solução não seja tão grande, na prática é possível visualizar com razoável notoriedade como os centroides na melhor solução estão melhor posicionados em relação àqueles da pior solução."
   ]
  },
  {
   "cell_type": "markdown",
   "metadata": {},
   "source": [
    "# Considerações finais"
   ]
  },
  {
   "cell_type": "markdown",
   "metadata": {},
   "source": [
    "Neste trabalho, uma versão customizada do algoritmo K-Means, intitulada `KMedias`, foi criada. Esta implementação possui a capacidade adicional de receber especificações para centroides fixos, i.e., centroides que não serão atualizados durante o desenvolvimento da rotina do algoritmo. Em seu desenvolvimento, foram utilizados os módulos `numba` (na forma do decorador `@nb.jit`) e `dask` (na forma da classe `dask.distributed.Client`) sempre que possível para acelerar a execução do algoritmo ao máximo e tirar proveito de todos os núcleos disponíveis pelo computador em que este notebook está sendo executado.\n",
    "\n",
    "A classe `KMedias` foi utilizada para, ao longo de 1000 execuções, explorar o espaço de busca composto por bairros de alguns distritos da cidade Belém, localizada no estado Pará. Para cada uma das execuções, uma solução foi gerada, e a melhor e a pior solução dentre as encontradas foi escrutinada. Constatou-se nos resultados uma discrepância considerável entre a melhor e a pior solução, bem como o fato de que, em todas elas, o já existente Aeroporto Internacional Val-de-Cans permaneceu nas memsas coordenadas, respeitando a especificação de centroide fixo passada ao algoritmo.\n",
    "\n",
    "Como produto deste trabalho, tem-se uma implementação eficiente do algoritmo K-Means. Ela pode ser reutilizada para outros problemas em que a especificação de centroides fixos seja desejável ou requisitada.\n",
    "\n",
    "Para detalhes adicionais acerca desta implementação, por favor leia o artigo elaborado acerca deste trabalho. Assim como este notebook, ele está disponível em [@ygarasab/kmeans](https://github.com/ygarasab/kmeans)."
   ]
  }
 ],
 "metadata": {
  "kernelspec": {
   "display_name": "Python [conda env:dss] *",
   "language": "python",
   "name": "conda-env-dss-py"
  },
  "language_info": {
   "codemirror_mode": {
    "name": "ipython",
    "version": 3
   },
   "file_extension": ".py",
   "mimetype": "text/x-python",
   "name": "python",
   "nbconvert_exporter": "python",
   "pygments_lexer": "ipython3",
   "version": "3.8.6"
  }
 },
 "nbformat": 4,
 "nbformat_minor": 4
}
